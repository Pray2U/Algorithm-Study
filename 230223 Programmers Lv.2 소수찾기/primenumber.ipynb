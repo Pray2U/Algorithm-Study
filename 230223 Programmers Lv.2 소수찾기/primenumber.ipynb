{
 "cells": [
  {
   "cell_type": "code",
   "execution_count": 1,
   "metadata": {},
   "outputs": [],
   "source": [
    "import math\n",
    "\n",
    "def primenumber(x):\n",
    "    for i in range(2, x):\t# 2부터 x-1까지의 모든 숫자\n",
    "        if x % i == 0:\t\t# 나눠떨어지는게 하나라도 있으면 False\n",
    "            return False\n",
    "    return True"
   ]
  },
  {
   "cell_type": "code",
   "execution_count": 2,
   "metadata": {},
   "outputs": [],
   "source": [
    "# 소수 판별\n",
    "def primenumber_2(x):\n",
    "    for i in range(2, int(math.sqrt(x) + 1)):\t# 2부터 x의 제곱근까지의 숫자\n",
    "        if x % i == 0:\t\t# 나눠떨어지는 숫자가 있으면 소수가 아님\n",
    "            return False\n",
    "    return True"
   ]
  },
  {
   "cell_type": "code",
   "execution_count": 3,
   "metadata": {},
   "outputs": [],
   "source": [
    "def primenumber_3(x):\n",
    "    n = 1000\t# 2부터 1000까지 모든 수에 대하여 소수를 찾을 것이다.\n",
    "    array = [True for i in range(n + 1)] # 0,1을 제외한 모든 숫자가 소수(True)인 것으로 설정하고 시작한다.\n",
    "\n",
    "    # 에라토스테네스의 체 알고리즘\n",
    "    for i in range(2, int(math.sqrt(n)) + 1): # 2부터 n의 제곱근까지의 모든 수를 확인\n",
    "        if array[i] == True:\t# i가 소수인 경우 i를 제외한 i의 모든 배수를 지우기\n",
    "            j = 2\n",
    "            while i * j <= n:\n",
    "                array[i * j] = False\n",
    "                j += 1\n",
    "                \n",
    "    #모든 소수 출력\n",
    "    for i in range(2, n + 1):\n",
    "        if array[i]:\n",
    "            print(i, end = ' ')"
   ]
  },
  {
   "cell_type": "code",
   "execution_count": null,
   "metadata": {},
   "outputs": [],
   "source": []
  }
 ],
 "metadata": {
  "kernelspec": {
   "display_name": "Python 3.10.6 64-bit",
   "language": "python",
   "name": "python3"
  },
  "language_info": {
   "codemirror_mode": {
    "name": "ipython",
    "version": 3
   },
   "file_extension": ".py",
   "mimetype": "text/x-python",
   "name": "python",
   "nbconvert_exporter": "python",
   "pygments_lexer": "ipython3",
   "version": "3.10.6"
  },
  "orig_nbformat": 4,
  "vscode": {
   "interpreter": {
    "hash": "afb734500600fd355917ca529030176ea0ca205570884b88f2f6f7d791fd3fbe"
   }
  }
 },
 "nbformat": 4,
 "nbformat_minor": 2
}
