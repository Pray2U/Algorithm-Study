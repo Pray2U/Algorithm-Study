{
 "cells": [
  {
   "cell_type": "markdown",
   "metadata": {},
   "source": [
    "\n",
    "# 소수를 몇 개 만드냐!\n",
    "\n",
    "소수 \"Prime Number\"  \n",
    "    1보다 큰 자연수 중 1과 자기자신만 약수로 가지는 수\n",
    "\n",
    "1. 2~자기자신까지 순회, 나눠보는 것\n",
    "2. 2부터 자기자신의 제곱근까지 순회, 나눠보는 것\n",
    "3. \"에라토스테네스의 체\"의 알고리즘을 기용!\n",
    "\n",
    "\n",
    "숫자가 적힌 문자열 \"numbers\" type -> string\n",
    "ex. \"0111111\" ~ \"2\"\n",
    "\n",
    "\"String\"\n",
    "list(\"String\") = [\"S\", \"t\", ... , \"g\"]\n",
    "각 요소를 가지고 조합을 이루는 것! -> itertools permutations\n",
    "\n",
    "※ 문자 type -> 숫자 type\n",
    "\n",
    "9:24 ~ 10:05"
   ]
  },
  {
   "cell_type": "code",
   "execution_count": 30,
   "metadata": {},
   "outputs": [],
   "source": [
    "from itertools import permutations"
   ]
  },
  {
   "cell_type": "code",
   "execution_count": 31,
   "metadata": {},
   "outputs": [],
   "source": [
    "# Programmers 58.3/100\n",
    "def solution(numbers):\n",
    "    # 1차 시도\n",
    "    comb = set()\n",
    "    for i in range(1, len(numbers)+1):\n",
    "        comb |= set(list(map(int, map(\"\".join, permutations(list(numbers), i)))))\n",
    "    comb -= set([0,1])\n",
    "    for i in range(2, int(max(comb) ** 0.5) + 1):\n",
    "        comb -= set(range(i * 2, max(comb) + 1, i))\n",
    "    return len(sorted(list(comb)))"
   ]
  },
  {
   "cell_type": "code",
   "execution_count": 32,
   "metadata": {},
   "outputs": [],
   "source": [
    "# Programmers 100/100\n",
    "def solution_2(numbers):\n",
    "    # 2차 시도\n",
    "    def is_prime(num):\n",
    "        if num < 2:\n",
    "            return False\n",
    "        for i in range(2, int(num ** 0.5) + 1):\n",
    "            if num % i == 0:\n",
    "                return False\n",
    "        return True\n",
    "\n",
    "    target = set()\n",
    "\n",
    "    for i in range(1, len(numbers) + 1):\n",
    "        for j in permutations(numbers, i):\n",
    "            if is_prime(int(\"\".join(j))):\n",
    "                target.add(int(\"\".join(j)))\n",
    "    return len(sorted(list(target)))"
   ]
  },
  {
   "cell_type": "code",
   "execution_count": 33,
   "metadata": {},
   "outputs": [
    {
     "name": "stdout",
     "output_type": "stream",
     "text": [
      "1\n",
      "1\n"
     ]
    }
   ],
   "source": [
    "print(solution(\"9939\")) # 소수가 없는 케이스가 들어올 경우 max()에서 에러가 남!\n",
    "print(solution_2(\"9939\"))"
   ]
  }
 ],
 "metadata": {
  "kernelspec": {
   "display_name": "Python 3.10.6 64-bit",
   "language": "python",
   "name": "python3"
  },
  "language_info": {
   "codemirror_mode": {
    "name": "ipython",
    "version": 3
   },
   "file_extension": ".py",
   "mimetype": "text/x-python",
   "name": "python",
   "nbconvert_exporter": "python",
   "pygments_lexer": "ipython3",
   "version": "3.10.6"
  },
  "orig_nbformat": 4,
  "vscode": {
   "interpreter": {
    "hash": "afb734500600fd355917ca529030176ea0ca205570884b88f2f6f7d791fd3fbe"
   }
  }
 },
 "nbformat": 4,
 "nbformat_minor": 2
}
